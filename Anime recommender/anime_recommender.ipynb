{
 "cells": [
  {
   "cell_type": "markdown",
   "metadata": {},
   "source": [
    "\"\"\"\n",
    "\n",
    "@author matheus dias\n",
    "## Recomendador de Animes\n",
    "---\n",
    "\n",
    "<img src=\"https://i.gifer.com/4ezV.gif\" width=\"750\">\n",
    "\n",
    "\n",
    "\n",
    "**---Português---**\n",
    "\n",
    "Script com um sistema de recomendação simples baseado nos gêneros do anime e nas avaliações dos usuários\n",
    "\n",
    "Os sistemas de recomendação estão nas mais avançadas empresas \n",
    "de e-commerce, tanto em produtos como em mercadorias. \n",
    "Entender o comportamento dos consumidores é essencial para que possamos modelar \n",
    "um sistema que acompanhe esse comportamento com a finalidade de \n",
    "satisfazer o consumidor e gerar lucros para a empresa.\n",
    "\n",
    "---\n",
    "\n",
    "**---English---**\n",
    "\n",
    "Script with a simple recommendation system based on anime genres and user ratings\n",
    "\n",
    "Recommender systems are in the most advanced e-commerce companies, \n",
    "both in products and merchandise. Understanding consumer behavior is essential \n",
    "so that we can model a system that monitors this behavior in order to satisfy \n",
    "the consumer and generate profits for the company.\n",
    "\n",
    "\"\"\""
   ]
  },
  {
   "cell_type": "markdown",
   "metadata": {},
   "source": [
    "\n",
    "## Manipulação dos dados\n",
    "----"
   ]
  },
  {
   "cell_type": "code",
   "execution_count": null,
   "metadata": {},
   "outputs": [],
   "source": [
    "# importações necessárias\n",
    "import pandas as pd\n",
    "import matplotlib.pyplot as plt\n",
    "import seaborn as sns\n",
    "sns.set_style('darkgrid')\n",
    "import warnings\n",
    "warnings.filterwarnings(\"ignore\")"
   ]
  },
  {
   "cell_type": "code",
   "execution_count": null,
   "metadata": {},
   "outputs": [],
   "source": [
    "# leitura dos CSV\n",
    "dataframe_anime = pd.read_csv('anime.csv')\n",
    "dataframe_notas = pd.read_csv('rating.csv')"
   ]
  },
  {
   "cell_type": "code",
   "execution_count": null,
   "metadata": {},
   "outputs": [],
   "source": [
    "# visualizando dataframe\n",
    "display(dataframe_anime.head())\n",
    "dataframe_notas.head()"
   ]
  },
  {
   "cell_type": "code",
   "execution_count": null,
   "metadata": {},
   "outputs": [],
   "source": [
    "# informações dos dados do dataframe\n",
    "display(dataframe_anime.info())\n",
    "print('=='*40)\n",
    "display(dataframe_notas.info())"
   ]
  },
  {
   "cell_type": "code",
   "execution_count": null,
   "metadata": {},
   "outputs": [],
   "source": [
    "# juntando os dataframes\n",
    "dataframe = pd.merge(dataframe_notas, dataframe_anime.drop('rating', axis=1),on='anime_id' )\n",
    "print(dataframe.shape)\n",
    "dataframe.head()"
   ]
  },
  {
   "cell_type": "code",
   "execution_count": null,
   "metadata": {},
   "outputs": [],
   "source": [
    "\n",
    "# testando a junção\n",
    "dataframe.groupby('name')['rating'].count().sort_values(ascending=False).head(600)"
   ]
  },
  {
   "cell_type": "code",
   "execution_count": null,
   "metadata": {},
   "outputs": [],
   "source": [
    "# dataframe de animes e suas avaliações\n",
    "notas = pd.DataFrame(dataframe.groupby('name')['rating'].mean())\n",
    "notas['Número de Avaliações'] = pd.DataFrame(dataframe.groupby('name')['rating'].count())\n",
    "notas['Média de Avaliação'] = pd.DataFrame(dataframe.groupby('name')['rating'].mean().round(2))\n",
    "notas"
   ]
  },
  {
   "cell_type": "code",
   "execution_count": null,
   "metadata": {},
   "outputs": [],
   "source": [
    "# plotar dados de notas\n",
    "fig = plt.figure(figsize=(10,5))\n",
    "sns.distplot(notas['rating'])\n",
    "plt.xlim(0,10)\n",
    "plt.title('Distribuição das notas (entre 0 e 10)', fontsize=15);"
   ]
  },
  {
   "cell_type": "code",
   "execution_count": null,
   "metadata": {},
   "outputs": [],
   "source": [
    "# dataframe de animes e seus gêneros\n",
    "genero = pd.DataFrame(data=dataframe_anime[['name','genre']])\n",
    "genero.set_index('name', inplace=True)\n",
    "genero"
   ]
  },
  {
   "cell_type": "markdown",
   "metadata": {},
   "source": [
    "-----------------------------------------------------------------------\n",
    "## Sistema de recomendação\n",
    "-----------------------------------------------------------------------"
   ]
  },
  {
   "cell_type": "code",
   "execution_count": null,
   "metadata": {},
   "outputs": [],
   "source": [
    "def verificar_genero(lista_genero, string):\n",
    "    \"\"\"\n",
    "    Verifica se algum dos gêneros da lista está contido na string.\n",
    "\n",
    "    Args:\n",
    "        lista_genero (list): Uma lista de gêneros a serem verificados na string.\n",
    "        string (str): A string na qual deseja-se verificar a presença dos gêneros.\n",
    "\n",
    "    Returns:\n",
    "        bool: True se pelo menos um dos gêneros da lista estiver contido na string, False caso contrário.\n",
    "\n",
    "    Note:\n",
    "        Esta função retorna True se pelo menos um dos gêneros da lista_genero estiver contido na string. Caso contrário,\n",
    "        ela retorna False.\n",
    "    \"\"\"\n",
    "    if any(x in string for x in lista_genero): \n",
    "        return True \n",
    "    else: \n",
    "        return False "
   ]
  },
  {
   "cell_type": "code",
   "execution_count": null,
   "metadata": {},
   "outputs": [],
   "source": [
    "\n",
    "def recomendar_anime(nome_do_anime, n):\n",
    "    \"\"\"\n",
    "    Recomenda animes com base na correlação de avaliações dos usuários.\n",
    "\n",
    "    Args:\n",
    "        nome_do_anime (str): O nome do anime para o qual deseja receber recomendações.\n",
    "        n (int): O número de animes recomendados desejados.\n",
    "\n",
    "    Returns:\n",
    "        pandas.DataFrame: Um DataFrame contendo os animes recomendados com suas informações de correlação,\n",
    "        número de avaliações e média de avaliação. Os resultados são classificados por correlação em ordem decrescente.\n",
    "        A primeira linha do DataFrame corresponde ao próprio anime consultado.\n",
    "\n",
    "    Raises:\n",
    "        KeyError: Se o nome_do_anime não existir no conjunto de dados ou se não houver informações suficientes para\n",
    "        recomendações (menos de 3000 avaliações).\n",
    "\n",
    "    Note:\n",
    "        Esta função assume a existência de variáveis globais, como 'genero', 'dataframe_anime', 'dataframe' e 'notas',\n",
    "        que devem ser definidas previamente.\n",
    "\n",
    "    \"\"\"\n",
    "    genero_anime = genero.loc[nome_do_anime].values[0].split(', ')\n",
    "    cols = dataframe_anime[dataframe_anime['genre'].apply(lambda x: verificar_genero(genero_anime, str(x)))]['name'].tolist()\n",
    "    matriz_de_animes = dataframe[dataframe['name'].isin(cols)].pivot_table(index='user_id', columns='name', values='rating')\n",
    "    anime_nota = matriz_de_animes[nome_do_anime]\n",
    "    anime_parecido = matriz_de_animes.corrwith(anime_nota)\n",
    "    anime_correlacionado = pd.DataFrame(anime_parecido, columns=['correlação'])\n",
    "    anime_correlacionado = anime_correlacionado.join(notas[['Número de Avaliações', 'Média de Avaliação']])\n",
    "    anime_correlacionado.dropna(inplace=True)\n",
    "    animes_recomendados = anime_correlacionado[anime_correlacionado['Número de Avaliações'] > 3000].sort_values('correlação', ascending=False)\n",
    "    animes_recomendados= animes_recomendados.rename_axis('Animes recomendados')\n",
    "    print(f'Anime escolhido: {nome_do_anime}')\n",
    "    return animes_recomendados.head(n+1)"
   ]
  },
  {
   "cell_type": "markdown",
   "metadata": {},
   "source": [
    "-----------------------------------------------------------------------\n",
    "## Testes\n",
    "-----------------------------------------------------------------------"
   ]
  },
  {
   "cell_type": "code",
   "execution_count": null,
   "metadata": {},
   "outputs": [],
   "source": [
    "# teste do código\n",
    "dataframe.groupby('name')['rating'].count().sort_values(ascending=False).head()"
   ]
  },
  {
   "cell_type": "code",
   "execution_count": null,
   "metadata": {},
   "outputs": [],
   "source": [
    "# teste do código\n",
    "recomendar_anime('Steins;Gate', 5)"
   ]
  },
  {
   "cell_type": "code",
   "execution_count": null,
   "metadata": {},
   "outputs": [],
   "source": [
    "# teste do código\n",
    "recomendar_anime('Fullmetal Alchemist: Brotherhood', 3)"
   ]
  }
 ],
 "metadata": {
  "kernelspec": {
   "display_name": "Python 3",
   "language": "python",
   "name": "python3"
  },
  "language_info": {
   "codemirror_mode": {
    "name": "ipython",
    "version": 3
   },
   "file_extension": ".py",
   "mimetype": "text/x-python",
   "name": "python",
   "nbconvert_exporter": "python",
   "pygments_lexer": "ipython3",
   "version": "3.11.1"
  },
  "orig_nbformat": 4
 },
 "nbformat": 4,
 "nbformat_minor": 2
}
